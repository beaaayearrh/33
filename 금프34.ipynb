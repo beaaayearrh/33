{
  "nbformat": 4,
  "nbformat_minor": 0,
  "metadata": {
    "colab": {
      "provenance": []
    },
    "kernelspec": {
      "name": "python3",
      "display_name": "Python 3"
    },
    "language_info": {
      "name": "python"
    }
  },
  "cells": [
    {
      "cell_type": "code",
      "execution_count": 1,
      "metadata": {
        "id": "DZCYd5ni24wc"
      },
      "outputs": [],
      "source": [
        "%matplotlib inline\n",
        "%config InlineBackend.figure_format = 'retina'"
      ]
    },
    {
      "cell_type": "code",
      "source": [
        "import yfinance as yf\n",
        "import pandas as pd\n",
        "import numpy as np"
      ],
      "metadata": {
        "colab": {
          "base_uri": "https://localhost:8080/",
          "height": 358
        },
        "id": "G9IYA7h72_VE",
        "outputId": "231bbeab-2d48-401d-da7f-5af2c37947d9"
      },
      "execution_count": 2,
      "outputs": [
        {
          "output_type": "error",
          "ename": "ModuleNotFoundError",
          "evalue": "ignored",
          "traceback": [
            "\u001b[0;31m---------------------------------------------------------------------------\u001b[0m",
            "\u001b[0;31mModuleNotFoundError\u001b[0m                       Traceback (most recent call last)",
            "\u001b[0;32m<ipython-input-2-a8fb3befdeee>\u001b[0m in \u001b[0;36m<module>\u001b[0;34m\u001b[0m\n\u001b[0;32m----> 1\u001b[0;31m \u001b[0;32mimport\u001b[0m \u001b[0myfinance\u001b[0m \u001b[0;32mas\u001b[0m \u001b[0myf\u001b[0m\u001b[0;34m\u001b[0m\u001b[0;34m\u001b[0m\u001b[0m\n\u001b[0m\u001b[1;32m      2\u001b[0m \u001b[0;32mimport\u001b[0m \u001b[0mpandas\u001b[0m \u001b[0;32mas\u001b[0m \u001b[0mpd\u001b[0m\u001b[0;34m\u001b[0m\u001b[0;34m\u001b[0m\u001b[0m\n\u001b[1;32m      3\u001b[0m \u001b[0;32mimport\u001b[0m \u001b[0mnumpy\u001b[0m \u001b[0;32mas\u001b[0m \u001b[0mnp\u001b[0m\u001b[0;34m\u001b[0m\u001b[0;34m\u001b[0m\u001b[0m\n",
            "\u001b[0;31mModuleNotFoundError\u001b[0m: No module named 'yfinance'",
            "",
            "\u001b[0;31m---------------------------------------------------------------------------\u001b[0;32m\nNOTE: If your import is failing due to a missing package, you can\nmanually install dependencies using either !pip or !apt.\n\nTo view examples of installing some common dependencies, click the\n\"Open Examples\" button below.\n\u001b[0;31m---------------------------------------------------------------------------\u001b[0m\n"
          ],
          "errorDetails": {
            "actions": [
              {
                "action": "open_url",
                "actionText": "Open Examples",
                "url": "/notebooks/snippets/importing_libraries.ipynb"
              }
            ]
          }
        }
      ]
    },
    {
      "cell_type": "code",
      "source": [
        "import matplotlib.pyplot as plt\n",
        "import warnings\n",
        "import seaborn as sns\n",
        "\n",
        "plt.style.use('seaborn')\n",
        "sns.set_palette('cubehelix')\n",
        "plt.rcParams['figure.figsize'] = [5, 3.5]\n",
        "plt.rcParams['figure.dpi'] = 150\n",
        "warnings.simplefilter(action='ignore', category=FutureWarning)"
      ],
      "metadata": {
        "id": "BkpKB5n125-N"
      },
      "execution_count": null,
      "outputs": []
    },
    {
      "cell_type": "code",
      "source": [
        "N_PORTFOLIOS = 10 ** 5 \n",
        "N_DAYS = 252 \n",
        "RISKY_ASSETS = ['AAPL', 'IBM', 'MSFT']\n",
        "RISKY_ASSETS.sort()\n",
        "START_DATE = '2018-01-01'\n",
        "END_DATE = '2018-12-31'\n",
        "\n",
        "n_assets = len(RISKY_ASSETS)"
      ],
      "metadata": {
        "id": "NytzWX0f26Sn"
      },
      "execution_count": null,
      "outputs": []
    },
    {
      "cell_type": "code",
      "source": [
        "prices_df = yf.download(RISKY_ASSETS, start=START_DATE, \n",
        "                        end=END_DATE, adjusted=True)\n",
        "print(f'Downloaded {prices_df.shape[0]} rows of data.')"
      ],
      "metadata": {
        "id": "4dL455N33Hre"
      },
      "execution_count": null,
      "outputs": []
    },
    {
      "cell_type": "code",
      "source": [
        "returns_df = prices_df['Adj Close'].pct_change().dropna()\n",
        "\n",
        "avg_returns = returns_df.mean() * N_DAYS\n",
        "cov_mat = returns_df.cov() * N_DAYS"
      ],
      "metadata": {
        "id": "ZauR9MO-26v0"
      },
      "execution_count": null,
      "outputs": []
    },
    {
      "cell_type": "code",
      "source": [
        "np.random.seed(42)\n",
        "weights = np.random.random(size=(N_PORTFOLIOS, n_assets))\n",
        "\n",
        "weights /= np.sum(weights, axis=1)[:,np.newaxis]"
      ],
      "metadata": {
        "id": "iPxwKAwR3P4E"
      },
      "execution_count": null,
      "outputs": []
    },
    {
      "cell_type": "code",
      "source": [
        "portf_rtns = np.dot(weights,avg_returns)\n",
        "\n",
        "portf_vol = []\n",
        "for i in range(0, len(weights)): \n",
        "    portf_vol.append(np.sqrt(np.dot(weights[i].T, \n",
        "                                    np.dot(cov_mat, weights[i]))))\n",
        "  \n",
        "\n",
        "portf_vol = np.array(portf_vol) \n",
        "portf_sharpe_ratio = portf_rtns / portf_vol "
      ],
      "metadata": {
        "id": "gHoAFfj_3QPE"
      },
      "execution_count": null,
      "outputs": []
    },
    {
      "cell_type": "code",
      "source": [
        "portf_results_df = pd.DataFrame({'returns': portf_rtns, \n",
        "                                 'volatility': portf_vol, \n",
        "                                 'sharpe_ratio': portf_sharpe_ratio})"
      ],
      "metadata": {
        "id": "9tdRI6Mf3Qkc"
      },
      "execution_count": null,
      "outputs": []
    },
    {
      "cell_type": "code",
      "source": [
        "max_sharpe_ind = np.argmax(portf_results_df.sharpe_ratio)\n",
        "\n",
        "max_sharpe_portf = portf_results_df.loc[max_sharpe_ind]\n",
        "\n",
        "min_vol_ind = np.argmin(portf_results_df.volatility)\n",
        "\n",
        "min_vol_portf = portf_results_df.loc[min_vol_ind]"
      ],
      "metadata": {
        "id": "U3soYLWy3hAm"
      },
      "execution_count": null,
      "outputs": []
    },
    {
      "cell_type": "code",
      "source": [
        "print('Maximum Sharpe Ratio portfolio ----')\n",
        "print('Performance')\n",
        "for index, value in max_sharpe_portf.items():\n",
        "    print(f'{index}: {100 * value:.2f}% ', end=\"\", flush=True)\n",
        "print('\\nWeights')\n",
        "for x, y in zip(RISKY_ASSETS, weights[np.argmax(portf_results_df.sharpe_ratio)]):\n",
        "    print(f'{x}: {100*y:.2f}% ', end=\"\", flush=True)"
      ],
      "metadata": {
        "id": "TA3psqwP3g9H"
      },
      "execution_count": null,
      "outputs": []
    },
    {
      "cell_type": "code",
      "source": [
        "import scipy\n",
        "import scipy.linalg"
      ],
      "metadata": {
        "id": "m5ULSc153usJ"
      },
      "execution_count": null,
      "outputs": []
    },
    {
      "cell_type": "code",
      "source": [
        "min_var_portf_w = weights[np.argmin(portf_results_df.volatility)]"
      ],
      "metadata": {
        "id": "tF0-iO5-3g7K"
      },
      "execution_count": null,
      "outputs": []
    },
    {
      "cell_type": "code",
      "source": [
        "T = 1\n",
        "N = len(returns_df)\n",
        "N_SIM = 10**3"
      ],
      "metadata": {
        "id": "TD9xRv8q3g3w"
      },
      "execution_count": null,
      "outputs": []
    },
    {
      "cell_type": "code",
      "source": [
        "def simulate_gbm(s_0, mu, sigma, n_sims, T, N, \n",
        "                 random_seed=42):\n",
        "      np.random.seed(random_seed)\n",
        "\n",
        "    dt = T/N \n",
        "    dW = np.random.normal(scale = np.sqrt(dt), size=(n_sims, N))\n",
        "    W = np.cumsum(dW, axis =1)\n",
        "\n",
        "    time_step = np.linspace(dt, T, N)\n",
        "    time_steps = np.broadcast_to(time_step, (n_sims, N))\n",
        "\n",
        "    S_t = s_0 * np.exp((mu - 0.5 * sigma ** 2) * time_steps\n",
        "                       + sigma * W)\n",
        "    S_t = np.insert(S_t, 0, s_0, axis=1)\n",
        "\n",
        "    return S_t"
      ],
      "metadata": {
        "id": "76JfJlGu3g0w"
      },
      "execution_count": null,
      "outputs": []
    },
    {
      "cell_type": "code",
      "source": [
        "shares = max_sharpe_portf_w\n",
        "print(shares)"
      ],
      "metadata": {
        "id": "xh8zXyul3gRO"
      },
      "execution_count": null,
      "outputs": []
    },
    {
      "cell_type": "code",
      "source": [
        "mu = np.matmul(avg_returns,shares)\n",
        "sigma = np.matmul(np.matmul(shares,cov_mat.values),shares.T)\n",
        "print(mu)\n",
        "print(sigma)"
      ],
      "metadata": {
        "id": "uXGCWyJB38It"
      },
      "execution_count": null,
      "outputs": []
    },
    {
      "cell_type": "code",
      "source": [
        "gbm_simulations = simulate_gbm(1, mu, sigma, N_SIM, T, N)"
      ],
      "metadata": {
        "id": "aLdJzZEl38FV"
      },
      "execution_count": null,
      "outputs": []
    },
    {
      "cell_type": "code",
      "source": [
        "plot_title = (f'{RISKY_ASSETS} Simulation ', 'Maximum Sharpe Ratio')\n",
        "\n",
        "\n",
        "gbm_simulations_df = pd.DataFrame(np.transpose(gbm_simulations))\n",
        "\n",
        "ax = gbm_simulations_df.plot(alpha=0.2, legend=False)\n",
        "line_1 = ax.plot(gbm_simulations_df.mean(axis=1), \n",
        "                  color='red')\n",
        "\n",
        "ax.set_title(plot_title, fontsize=16)\n",
        "ax.legend((line_1), ('m'))\n",
        "\n",
        "\n",
        "plt.show()"
      ],
      "metadata": {
        "id": "lGa9ua3O38C_"
      },
      "execution_count": null,
      "outputs": []
    },
    {
      "cell_type": "code",
      "source": [
        "shares = min_var_portf_w"
      ],
      "metadata": {
        "id": "k6XquBe63ghl"
      },
      "execution_count": null,
      "outputs": []
    },
    {
      "cell_type": "code",
      "source": [
        "mu = np.matmul(avg_returns,shares)\n",
        "sigma = np.matmul(np.matmul(shares,cov_mat.values),shares.T)\n",
        "print(mu)\n",
        "print(sigma)"
      ],
      "metadata": {
        "id": "6J_G6zfb4JiB"
      },
      "execution_count": null,
      "outputs": []
    },
    {
      "cell_type": "code",
      "source": [
        "plot_title = (f'{RISKY_ASSETS} Simulation ', 'Minimum Volatility')\n",
        "\n",
        "\n",
        "gbm_simulations_df = pd.DataFrame(np.transpose(gbm_simulations))\n",
        "\n",
        "\n",
        "ax = gbm_simulations_df.plot(alpha=0.2, legend=False)\n",
        "line_1 = ax.plot(gbm_simulations_df.mean(axis=1), \n",
        "                  color='red')\n",
        "\n",
        "ax.set_title(plot_title, fontsize=16)\n",
        "ax.legend((line_1), ('m'))\n",
        "\n",
        "\n",
        "plt.show()"
      ],
      "metadata": {
        "id": "pZXX0PMT4Lf4"
      },
      "execution_count": null,
      "outputs": []
    }
  ]
}